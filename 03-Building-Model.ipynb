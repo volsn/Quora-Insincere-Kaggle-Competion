{
 "cells": [
  {
   "cell_type": "code",
   "execution_count": 37,
   "metadata": {},
   "outputs": [],
   "source": [
    "from __future__ import absolute_import, division, print_function, unicode_literals\n",
    "\n",
    "import os\n",
    "import sys\n",
    "import pickle\n",
    "\n",
    "import numpy as np\n",
    "import pandas as pd\n",
    "\n",
    "from sklearn.preprocessing import MinMaxScaler\n",
    "\n",
    "import tensorflow as tf\n",
    "from tensorflow import keras\n",
    "from tensorflow.keras import layers\n",
    "\n",
    "import matplotlib.pyplot as plt\n",
    "%matplotlib inline"
   ]
  },
  {
   "cell_type": "code",
   "execution_count": null,
   "metadata": {},
   "outputs": [],
   "source": []
  },
  {
   "cell_type": "markdown",
   "metadata": {},
   "source": [
    "### Loading preprocessed Data"
   ]
  },
  {
   "cell_type": "code",
   "execution_count": 31,
   "metadata": {},
   "outputs": [],
   "source": [
    "with open(os.path.join('pickles', 'dataset.pickle'), 'rb') as handle:\n",
    "    dataset = pickle.load(handle)\n",
    "\n",
    "X_train = dataset['X_train']\n",
    "y_train = dataset['y_train']\n",
    "X_valid = dataset['X_valid']\n",
    "y_valid = dataset['y_valid']\n",
    "X_test = dataset['X_test']\n",
    "y_test = dataset['y_test']"
   ]
  },
  {
   "cell_type": "code",
   "execution_count": 8,
   "metadata": {},
   "outputs": [],
   "source": [
    "with open(os.path.join('pickles', 'encoder.pickle'), 'rb') as handle:\n",
    "    encoder = pickle.load(handle)"
   ]
  },
  {
   "cell_type": "code",
   "execution_count": null,
   "metadata": {},
   "outputs": [],
   "source": []
  },
  {
   "cell_type": "markdown",
   "metadata": {},
   "source": [
    "## Building Model "
   ]
  },
  {
   "cell_type": "code",
   "execution_count": 10,
   "metadata": {},
   "outputs": [
    {
     "name": "stdout",
     "output_type": "stream",
     "text": [
      "Model: \"sequential\"\n",
      "_________________________________________________________________\n",
      "Layer (type)                 Output Shape              Param #   \n",
      "=================================================================\n",
      "embedding (Embedding)        (None, None, 16)          130960    \n",
      "_________________________________________________________________\n",
      "global_average_pooling1d (Gl (None, 16)                0         \n",
      "_________________________________________________________________\n",
      "dense (Dense)                (None, 1)                 17        \n",
      "=================================================================\n",
      "Total params: 130,977\n",
      "Trainable params: 130,977\n",
      "Non-trainable params: 0\n",
      "_________________________________________________________________\n"
     ]
    }
   ],
   "source": [
    "embedding_dim = 16\n",
    "\n",
    "model = keras.Sequential([\n",
    "    layers.Embedding(encoder.vocab_size, embedding_dim),\n",
    "    layers.GlobalAveragePooling1D(),\n",
    "    layers.Dense(1, activation='sigmoid')\n",
    "])\n",
    "\n",
    "model.summary()"
   ]
  },
  {
   "cell_type": "code",
   "execution_count": 16,
   "metadata": {},
   "outputs": [
    {
     "name": "stdout",
     "output_type": "stream",
     "text": [
      "Train on 7000 samples, validate on 1000 samples\n",
      "Epoch 1/10\n",
      "7000/7000 [==============================] - 2s 236us/sample - loss: 0.1990 - accuracy: 0.9356 - val_loss: 0.2052 - val_accuracy: 0.9360\n",
      "Epoch 2/10\n",
      "7000/7000 [==============================] - 0s 68us/sample - loss: 0.1936 - accuracy: 0.9357 - val_loss: 0.2016 - val_accuracy: 0.9360\n",
      "Epoch 3/10\n",
      "7000/7000 [==============================] - 1s 78us/sample - loss: 0.1876 - accuracy: 0.9363 - val_loss: 0.1985 - val_accuracy: 0.9360\n",
      "Epoch 4/10\n",
      "7000/7000 [==============================] - 1s 73us/sample - loss: 0.1817 - accuracy: 0.9373 - val_loss: 0.1935 - val_accuracy: 0.9360\n",
      "Epoch 5/10\n",
      "7000/7000 [==============================] - 0s 67us/sample - loss: 0.1748 - accuracy: 0.9391 - val_loss: 0.1892 - val_accuracy: 0.9370\n",
      "Epoch 6/10\n",
      "7000/7000 [==============================] - 1s 82us/sample - loss: 0.1677 - accuracy: 0.9407 - val_loss: 0.1851 - val_accuracy: 0.9370\n",
      "Epoch 7/10\n",
      "7000/7000 [==============================] - 0s 66us/sample - loss: 0.1605 - accuracy: 0.9423 - val_loss: 0.1810 - val_accuracy: 0.9390\n",
      "Epoch 8/10\n",
      "7000/7000 [==============================] - 1s 73us/sample - loss: 0.1536 - accuracy: 0.9443 - val_loss: 0.1772 - val_accuracy: 0.9390\n",
      "Epoch 9/10\n",
      "7000/7000 [==============================] - 1s 75us/sample - loss: 0.1470 - accuracy: 0.9456 - val_loss: 0.1739 - val_accuracy: 0.9390\n",
      "Epoch 10/10\n",
      "7000/7000 [==============================] - 0s 71us/sample - loss: 0.1403 - accuracy: 0.9470 - val_loss: 0.1706 - val_accuracy: 0.9400\n"
     ]
    }
   ],
   "source": [
    "model.compile(optimizer='adam',\n",
    "              loss='binary_crossentropy',\n",
    "              metrics=['accuracy'])\n",
    "\n",
    "early_stop = keras.callbacks.EarlyStopping(monitor='val_loss', patience=10)\n",
    "\n",
    "history = model.fit(\n",
    "    X_train, y_train,\n",
    "    epochs=10,\n",
    "    batch_size=32,\n",
    "    validation_data=(X_valid, y_valid),\n",
    "    callbacks=[early_stop]\n",
    ")"
   ]
  },
  {
   "cell_type": "code",
   "execution_count": null,
   "metadata": {},
   "outputs": [],
   "source": []
  },
  {
   "cell_type": "code",
   "execution_count": 40,
   "metadata": {},
   "outputs": [],
   "source": [
    "weights = model.layers[0]\\\n",
    "                .get_weights()[0]\n",
    "vect_file = os.path.join('embeddings', 'vecs.tsv')\n",
    "meta_file = os.path.join('embeddings', 'meta.tsv')\n",
    "\n",
    "with open(vect_file, 'w') as out_vect, open(meta_file, 'w') as out_meta:\n",
    "    for i, word in enumerate(encoder.subwords):\n",
    "        vec = weights[num + 1]\n",
    "        out_meta.write(word + '\\n')\n",
    "        out_vect.write('\\t'.join([str(w) for w in vec]) + '\\n')"
   ]
  },
  {
   "cell_type": "code",
   "execution_count": null,
   "metadata": {},
   "outputs": [],
   "source": []
  }
 ],
 "metadata": {
  "kernelspec": {
   "display_name": "Python 3",
   "language": "python",
   "name": "python3"
  },
  "language_info": {
   "codemirror_mode": {
    "name": "ipython",
    "version": 3
   },
   "file_extension": ".py",
   "mimetype": "text/x-python",
   "name": "python",
   "nbconvert_exporter": "python",
   "pygments_lexer": "ipython3",
   "version": "3.6.6"
  }
 },
 "nbformat": 4,
 "nbformat_minor": 2
}
