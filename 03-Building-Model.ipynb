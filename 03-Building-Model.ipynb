{
 "cells": [
  {
   "cell_type": "code",
   "execution_count": 60,
   "metadata": {},
   "outputs": [],
   "source": [
    "from __future__ import absolute_import, division, print_function, unicode_literals\n",
    "\n",
    "import os\n",
    "import sys\n",
    "import pickle\n",
    "\n",
    "import numpy as np\n",
    "import pandas as pd\n",
    "\n",
    "from sklearn.preprocessing import MinMaxScaler\n",
    "from sklearn.metrics import accuracy_score, recall_score, \\\n",
    "                                precision_score, f1_score\n",
    "\n",
    "import tensorflow as tf\n",
    "from tensorflow import keras\n",
    "from tensorflow.keras import layers\n",
    "\n",
    "import matplotlib.pyplot as plt\n",
    "%matplotlib inline"
   ]
  },
  {
   "cell_type": "code",
   "execution_count": null,
   "metadata": {},
   "outputs": [],
   "source": []
  },
  {
   "cell_type": "markdown",
   "metadata": {},
   "source": [
    "### Loading preprocessed Data"
   ]
  },
  {
   "cell_type": "code",
   "execution_count": 45,
   "metadata": {},
   "outputs": [],
   "source": [
    "with open(os.path.join('pickles', 'dataset.pickle'), 'rb') as handle:\n",
    "    dataset = pickle.load(handle)\n",
    "\n",
    "X_train = dataset['X_train']\n",
    "y_train = dataset['y_train']\n",
    "X_valid = dataset['X_valid']\n",
    "y_valid = dataset['y_valid']\n",
    "X_test = dataset['X_test']\n",
    "y_test = dataset['y_test']"
   ]
  },
  {
   "cell_type": "code",
   "execution_count": 46,
   "metadata": {},
   "outputs": [],
   "source": [
    "with open(os.path.join('pickles', 'encoder.pickle'), 'rb') as handle:\n",
    "    encoder = pickle.load(handle)"
   ]
  },
  {
   "cell_type": "code",
   "execution_count": null,
   "metadata": {},
   "outputs": [],
   "source": []
  },
  {
   "cell_type": "markdown",
   "metadata": {},
   "source": [
    "## Building Model "
   ]
  },
  {
   "cell_type": "code",
   "execution_count": 50,
   "metadata": {},
   "outputs": [
    {
     "name": "stdout",
     "output_type": "stream",
     "text": [
      "Model: \"sequential_2\"\n",
      "_________________________________________________________________\n",
      "Layer (type)                 Output Shape              Param #   \n",
      "=================================================================\n",
      "embedding_2 (Embedding)      (None, None, 16)          130960    \n",
      "_________________________________________________________________\n",
      "global_average_pooling1d_2 ( (None, 16)                0         \n",
      "_________________________________________________________________\n",
      "dense_2 (Dense)              (None, 16)                272       \n",
      "_________________________________________________________________\n",
      "dense_3 (Dense)              (None, 1)                 17        \n",
      "=================================================================\n",
      "Total params: 131,249\n",
      "Trainable params: 131,249\n",
      "Non-trainable params: 0\n",
      "_________________________________________________________________\n"
     ]
    }
   ],
   "source": [
    "embedding_dim = 16\n",
    "\n",
    "model = keras.Sequential([\n",
    "    layers.Embedding(encoder.vocab_size, embedding_dim),\n",
    "    layers.GlobalAveragePooling1D(),\n",
    "    layers.Dense(16, activation='relu'),\n",
    "    layers.Dense(1, activation='sigmoid')\n",
    "])\n",
    "\n",
    "model.summary()"
   ]
  },
  {
   "cell_type": "code",
   "execution_count": 51,
   "metadata": {},
   "outputs": [
    {
     "name": "stdout",
     "output_type": "stream",
     "text": [
      "Train on 127000 samples, validate on 1000 samples\n",
      "Epoch 1/10\n",
      "127000/127000 [==============================] - 10s 83us/sample - loss: 0.4634 - accuracy: 0.7814 - val_loss: 0.3420 - val_accuracy: 0.8620\n",
      "Epoch 2/10\n",
      "127000/127000 [==============================] - 10s 76us/sample - loss: 0.3220 - accuracy: 0.8682 - val_loss: 0.3023 - val_accuracy: 0.8770\n",
      "Epoch 3/10\n",
      "127000/127000 [==============================] - 9s 74us/sample - loss: 0.2956 - accuracy: 0.8817 - val_loss: 0.3019 - val_accuracy: 0.8770\n",
      "Epoch 4/10\n",
      "127000/127000 [==============================] - 10s 75us/sample - loss: 0.2842 - accuracy: 0.8877 - val_loss: 0.2862 - val_accuracy: 0.8890\n",
      "Epoch 5/10\n",
      "127000/127000 [==============================] - 10s 82us/sample - loss: 0.2768 - accuracy: 0.8916 - val_loss: 0.2870 - val_accuracy: 0.8820\n",
      "Epoch 6/10\n",
      "127000/127000 [==============================] - 10s 77us/sample - loss: 0.2709 - accuracy: 0.8946 - val_loss: 0.2865 - val_accuracy: 0.8970\n",
      "Epoch 7/10\n",
      "127000/127000 [==============================] - 11s 85us/sample - loss: 0.2690 - accuracy: 0.8957 - val_loss: 0.2963 - val_accuracy: 0.8770\n",
      "Epoch 8/10\n",
      "127000/127000 [==============================] - 12s 91us/sample - loss: 0.2666 - accuracy: 0.8957 - val_loss: 0.2870 - val_accuracy: 0.8940\n",
      "Epoch 9/10\n",
      "127000/127000 [==============================] - 11s 84us/sample - loss: 0.2641 - accuracy: 0.8977 - val_loss: 0.2911 - val_accuracy: 0.8800\n",
      "Epoch 10/10\n",
      "127000/127000 [==============================] - 10s 81us/sample - loss: 0.2622 - accuracy: 0.8986 - val_loss: 0.3123 - val_accuracy: 0.8750\n"
     ]
    }
   ],
   "source": [
    "model.compile(optimizer='adam',\n",
    "              loss='binary_crossentropy',\n",
    "              metrics=['accuracy'])\n",
    "\n",
    "early_stop = keras.callbacks.EarlyStopping(monitor='val_loss', patience=10)\n",
    "\n",
    "history = model.fit(\n",
    "    X_train, y_train,\n",
    "    epochs=10,\n",
    "    batch_size=32,\n",
    "    validation_data=(X_valid, y_valid),\n",
    "    callbacks=[early_stop]\n",
    ")"
   ]
  },
  {
   "cell_type": "code",
   "execution_count": null,
   "metadata": {},
   "outputs": [],
   "source": []
  },
  {
   "cell_type": "code",
   "execution_count": 82,
   "metadata": {},
   "outputs": [],
   "source": [
    "y_pred = model.predict(X_test)"
   ]
  },
  {
   "cell_type": "code",
   "execution_count": 83,
   "metadata": {},
   "outputs": [],
   "source": [
    "y_pred = y_pred.reshape(1, -1)[0]\n",
    "y_pred[np.where(y_pred >= 0.5)] = 1\n",
    "y_pred[np.where(y_pred < 0.5)] = 0"
   ]
  },
  {
   "cell_type": "code",
   "execution_count": 84,
   "metadata": {},
   "outputs": [
    {
     "name": "stdout",
     "output_type": "stream",
     "text": [
      "Accuracy: 0.87065625\n",
      "Recall: 0.8268977208513845\n",
      "Precision: 0.9050302363936229\n",
      "F1 Score: 0.8642015814167131\n"
     ]
    }
   ],
   "source": [
    "print('Accuracy:', accuracy_score(y_test, y_pred))\n",
    "print('Recall:', recall_score(y_test, y_pred))\n",
    "print('Precision:', precision_score(y_test, y_pred))\n",
    "print('F1 Score:', f1_score(y_test, y_pred))"
   ]
  },
  {
   "cell_type": "code",
   "execution_count": null,
   "metadata": {},
   "outputs": [],
   "source": []
  },
  {
   "cell_type": "code",
   "execution_count": 85,
   "metadata": {},
   "outputs": [],
   "source": [
    "weights = model.layers[0]\\\n",
    "                .get_weights()[0]\n",
    "vect_file = os.path.join('embeddings', 'vecs.tsv')\n",
    "meta_file = os.path.join('embeddings', 'meta.tsv')\n",
    "\n",
    "with open(vect_file, 'w') as out_vect, open(meta_file, 'w') as out_meta:\n",
    "    for i, word in enumerate(encoder.subwords):\n",
    "        vec = weights[num + 1]\n",
    "        out_meta.write(word + '\\n')\n",
    "        out_vect.write('\\t'.join([str(w) for w in vec]) + '\\n')"
   ]
  },
  {
   "cell_type": "code",
   "execution_count": null,
   "metadata": {},
   "outputs": [],
   "source": []
  }
 ],
 "metadata": {
  "kernelspec": {
   "display_name": "Python 3",
   "language": "python",
   "name": "python3"
  },
  "language_info": {
   "codemirror_mode": {
    "name": "ipython",
    "version": 3
   },
   "file_extension": ".py",
   "mimetype": "text/x-python",
   "name": "python",
   "nbconvert_exporter": "python",
   "pygments_lexer": "ipython3",
   "version": "3.6.6"
  }
 },
 "nbformat": 4,
 "nbformat_minor": 2
}
