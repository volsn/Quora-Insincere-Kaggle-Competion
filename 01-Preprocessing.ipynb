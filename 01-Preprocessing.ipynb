{
 "cells": [
  {
   "cell_type": "code",
   "execution_count": 53,
   "metadata": {},
   "outputs": [],
   "source": [
    "from __future__ import absolute_import, division, print_function, unicode_literals\n",
    "\n",
    "import os\n",
    "import sys\n",
    "import string\n",
    "import pickle\n",
    "\n",
    "import warnings\n",
    "warnings.filterwarnings(\"ignore\")\n",
    "\n",
    "import numpy as np\n",
    "import pandas as pd\n",
    "import seaborn as sns\n",
    "\n",
    "import matplotlib.pyplot as plt\n",
    "%matplotlib inline\n",
    "\n",
    "from sklearn.model_selection import train_test_split\n",
    "from sklearn.base import BaseEstimator, TransformerMixin\n",
    "from sklearn.pipeline import Pipeline"
   ]
  },
  {
   "cell_type": "code",
   "execution_count": null,
   "metadata": {},
   "outputs": [],
   "source": []
  },
  {
   "cell_type": "code",
   "execution_count": 16,
   "metadata": {},
   "outputs": [],
   "source": [
    "def fetch_data_train(path='DATA'):\n",
    "    data = pd.read_csv(os.path.join(path, 'train.csv'))\n",
    "    data_positive = data.loc[data['target'] == 1][:80000]\n",
    "    data_negative = data.loc[data['target'] == 0][:80000]\n",
    "    \n",
    "    data = data_positive.append(data_negative, ignore_index=True, sort=False)\n",
    "    data = data.sample(frac=1).reset_index(drop=True)\n",
    "    \n",
    "    X = data.drop(['qid', 'target'], axis=1)\n",
    "    y = data['target']\n",
    "    \n",
    "    X_train, X_test, y_train, y_test = train_test_split(X, y, test_size=0.2)\n",
    "    \n",
    "    return X_train, X_test, y_train, y_test\n",
    "\n",
    "def fetch_data_test(path='DATA'):\n",
    "    train = pd.read_csv(os.path.join(path, 'train.csv'))\n",
    "    test = pd.read_csv(os.path.join(path, 'test.csv'))\n",
    "    \n",
    "    X_train = train.drop(['qid', 'target'], axis=1)\n",
    "    y_train = train['target']\n",
    "    X_test = train.drop(['qid'], axis=1)\n",
    "    \n",
    "    return X_train, X_test, y_train"
   ]
  },
  {
   "cell_type": "code",
   "execution_count": 17,
   "metadata": {},
   "outputs": [],
   "source": [
    "X_train, X_test, y_train, y_test = fetch_data_train()"
   ]
  },
  {
   "cell_type": "code",
   "execution_count": 19,
   "metadata": {},
   "outputs": [
    {
     "data": {
      "text/html": [
       "<div>\n",
       "<style scoped>\n",
       "    .dataframe tbody tr th:only-of-type {\n",
       "        vertical-align: middle;\n",
       "    }\n",
       "\n",
       "    .dataframe tbody tr th {\n",
       "        vertical-align: top;\n",
       "    }\n",
       "\n",
       "    .dataframe thead th {\n",
       "        text-align: right;\n",
       "    }\n",
       "</style>\n",
       "<table border=\"1\" class=\"dataframe\">\n",
       "  <thead>\n",
       "    <tr style=\"text-align: right;\">\n",
       "      <th></th>\n",
       "      <th>question_text</th>\n",
       "    </tr>\n",
       "  </thead>\n",
       "  <tbody>\n",
       "    <tr>\n",
       "      <th>124518</th>\n",
       "      <td>Does anybody still believe in the theory of ev...</td>\n",
       "    </tr>\n",
       "    <tr>\n",
       "      <th>26033</th>\n",
       "      <td>I've matched with about 60 women on Tinder and...</td>\n",
       "    </tr>\n",
       "    <tr>\n",
       "      <th>3364</th>\n",
       "      <td>How can I buy a bomb which is capable of killi...</td>\n",
       "    </tr>\n",
       "    <tr>\n",
       "      <th>27636</th>\n",
       "      <td>Would you take your dog to an at-home dog cast...</td>\n",
       "    </tr>\n",
       "    <tr>\n",
       "      <th>127008</th>\n",
       "      <td>Can people with ASD think of people beyond the...</td>\n",
       "    </tr>\n",
       "  </tbody>\n",
       "</table>\n",
       "</div>"
      ],
      "text/plain": [
       "                                            question_text\n",
       "124518  Does anybody still believe in the theory of ev...\n",
       "26033   I've matched with about 60 women on Tinder and...\n",
       "3364    How can I buy a bomb which is capable of killi...\n",
       "27636   Would you take your dog to an at-home dog cast...\n",
       "127008  Can people with ASD think of people beyond the..."
      ]
     },
     "execution_count": 19,
     "metadata": {},
     "output_type": "execute_result"
    }
   ],
   "source": [
    "X_train.head()"
   ]
  },
  {
   "cell_type": "code",
   "execution_count": null,
   "metadata": {},
   "outputs": [],
   "source": []
  },
  {
   "cell_type": "code",
   "execution_count": 28,
   "metadata": {},
   "outputs": [],
   "source": [
    "with open(os.path.join('pickles', 'stopwords.pickle'), 'rb') as handle:\n",
    "    STOPWORDS = pickle.load(handle)"
   ]
  },
  {
   "cell_type": "code",
   "execution_count": null,
   "metadata": {},
   "outputs": [],
   "source": []
  },
  {
   "cell_type": "code",
   "execution_count": 36,
   "metadata": {},
   "outputs": [],
   "source": [
    "class NumWordsTransform(BaseEstimator, TransformerMixin):\n",
    "    def transform(self, X, y=None):\n",
    "        X['num_words'] = X['question_text'].apply(lambda x: len(str(x).split()))\n",
    "        return X\n",
    "    \n",
    "class NumUniqueWordsTransform(BaseEstimator, TransformerMixin):\n",
    "    def transform(self, X, y=None):\n",
    "        X['num_unique_words'] = X['question_text'].apply(lambda x: len(set(str(x).split())))\n",
    "        return X\n",
    "    \n",
    "class NumCharsTransform(BaseEstimator, TransformerMixin):\n",
    "    def transform(self, X, y=None):\n",
    "        X['num_chars'] = X['question_text'].apply(lambda x: len(str(x)))\n",
    "        return X\n",
    "\n",
    "class NumStopWordsTransform(BaseEstimator, TransformerMixin):\n",
    "    def __init__(self, stopwords):\n",
    "        self.STOPWORDS = stopwords\n",
    "    \n",
    "    def transform(self, X, y=None):\n",
    "        X['num_stopwords'] = X['question_text'].apply(lambda x: len([w for w in str(x).lower().split() if w in self.STOPWORDS]))\n",
    "        return X\n",
    "    \n",
    "class NumPunctuationTransform(BaseEstimator, TransformerMixin):\n",
    "    def transform(self, X, y=None):\n",
    "        X['num_punctuations'] = X['question_text'].apply(lambda x: len([c for c in str(x) if c in string.punctuation]))\n",
    "        return X\n",
    "    \n",
    "class NumWordsUpperTransform(BaseEstimator, TransformerMixin):\n",
    "    def transform(self, X, y=None):\n",
    "        X['num_words_upper'] = X['question_text'].apply(lambda x: len([w for w in str(x).split() if w.isupper()]))\n",
    "        return X\n",
    "\n",
    "class NumTitleTransform(BaseEstimator, TransformerMixin):\n",
    "    def transform(self, X, y=None):\n",
    "        X['num_words_title'] = X['question_text'].apply(lambda x: len([w for w in str(x).split() if w.istitle()]))\n",
    "        return X\n",
    "    \n",
    "class MeanWordLengthTransform(BaseEstimator, TransformerMixin):\n",
    "    def fit(self, X, y=None):\n",
    "        return self\n",
    "    \n",
    "    def transform(self, X, y=None):\n",
    "        X['mean_word_len'] = X['question_text'].apply(lambda x: np.mean([len(w) for w in str(x).split()]))\n",
    "        return X"
   ]
  },
  {
   "cell_type": "code",
   "execution_count": 37,
   "metadata": {},
   "outputs": [],
   "source": [
    "pipeline = Pipeline([\n",
    "    ('num_words', NumWordsTransform()),\n",
    "    ('num_unique_words', NumUniqueWordsTransform()),\n",
    "    ('num_chars', NumCharsTransform()),\n",
    "    ('num_stopwords', NumStopWordsTransform(stopwords=STOPWORDS)),\n",
    "    ('num_punctuations', NumPunctuationTransform()),\n",
    "    ('num_words_upper', NumWordsUpperTransform()),\n",
    "    ('num_words_title', NumTitleTransform()),\n",
    "    ('mean_word_len', MeanWordLengthTransform())\n",
    "])"
   ]
  },
  {
   "cell_type": "code",
   "execution_count": 42,
   "metadata": {},
   "outputs": [],
   "source": [
    "X_train = pipeline.transform(X_train)\n",
    "X_test = pipeline.transform(X_test)"
   ]
  },
  {
   "cell_type": "code",
   "execution_count": 43,
   "metadata": {},
   "outputs": [
    {
     "data": {
      "text/html": [
       "<div>\n",
       "<style scoped>\n",
       "    .dataframe tbody tr th:only-of-type {\n",
       "        vertical-align: middle;\n",
       "    }\n",
       "\n",
       "    .dataframe tbody tr th {\n",
       "        vertical-align: top;\n",
       "    }\n",
       "\n",
       "    .dataframe thead th {\n",
       "        text-align: right;\n",
       "    }\n",
       "</style>\n",
       "<table border=\"1\" class=\"dataframe\">\n",
       "  <thead>\n",
       "    <tr style=\"text-align: right;\">\n",
       "      <th></th>\n",
       "      <th>question_text</th>\n",
       "      <th>num_words</th>\n",
       "      <th>num_unique_words</th>\n",
       "      <th>num_chars</th>\n",
       "      <th>num_stopwords</th>\n",
       "      <th>num_punctuations</th>\n",
       "      <th>num_words_upper</th>\n",
       "      <th>num_words_title</th>\n",
       "      <th>mean_word_len</th>\n",
       "    </tr>\n",
       "  </thead>\n",
       "  <tbody>\n",
       "    <tr>\n",
       "      <th>124518</th>\n",
       "      <td>Does anybody still believe in the theory of ev...</td>\n",
       "      <td>16</td>\n",
       "      <td>16</td>\n",
       "      <td>98</td>\n",
       "      <td>7</td>\n",
       "      <td>1</td>\n",
       "      <td>0</td>\n",
       "      <td>1</td>\n",
       "      <td>5.187500</td>\n",
       "    </tr>\n",
       "    <tr>\n",
       "      <th>26033</th>\n",
       "      <td>I've matched with about 60 women on Tinder and...</td>\n",
       "      <td>32</td>\n",
       "      <td>31</td>\n",
       "      <td>176</td>\n",
       "      <td>17</td>\n",
       "      <td>7</td>\n",
       "      <td>1</td>\n",
       "      <td>3</td>\n",
       "      <td>4.531250</td>\n",
       "    </tr>\n",
       "    <tr>\n",
       "      <th>3364</th>\n",
       "      <td>How can I buy a bomb which is capable of killi...</td>\n",
       "      <td>14</td>\n",
       "      <td>14</td>\n",
       "      <td>66</td>\n",
       "      <td>7</td>\n",
       "      <td>1</td>\n",
       "      <td>1</td>\n",
       "      <td>2</td>\n",
       "      <td>3.785714</td>\n",
       "    </tr>\n",
       "    <tr>\n",
       "      <th>27636</th>\n",
       "      <td>Would you take your dog to an at-home dog cast...</td>\n",
       "      <td>16</td>\n",
       "      <td>15</td>\n",
       "      <td>83</td>\n",
       "      <td>9</td>\n",
       "      <td>2</td>\n",
       "      <td>0</td>\n",
       "      <td>1</td>\n",
       "      <td>4.250000</td>\n",
       "    </tr>\n",
       "    <tr>\n",
       "      <th>127008</th>\n",
       "      <td>Can people with ASD think of people beyond the...</td>\n",
       "      <td>11</td>\n",
       "      <td>10</td>\n",
       "      <td>67</td>\n",
       "      <td>4</td>\n",
       "      <td>1</td>\n",
       "      <td>1</td>\n",
       "      <td>1</td>\n",
       "      <td>5.181818</td>\n",
       "    </tr>\n",
       "  </tbody>\n",
       "</table>\n",
       "</div>"
      ],
      "text/plain": [
       "                                            question_text  num_words  \\\n",
       "124518  Does anybody still believe in the theory of ev...         16   \n",
       "26033   I've matched with about 60 women on Tinder and...         32   \n",
       "3364    How can I buy a bomb which is capable of killi...         14   \n",
       "27636   Would you take your dog to an at-home dog cast...         16   \n",
       "127008  Can people with ASD think of people beyond the...         11   \n",
       "\n",
       "        num_unique_words  num_chars  num_stopwords  num_punctuations  \\\n",
       "124518                16         98              7                 1   \n",
       "26033                 31        176             17                 7   \n",
       "3364                  14         66              7                 1   \n",
       "27636                 15         83              9                 2   \n",
       "127008                10         67              4                 1   \n",
       "\n",
       "        num_words_upper  num_words_title  mean_word_len  \n",
       "124518                0                1       5.187500  \n",
       "26033                 1                3       4.531250  \n",
       "3364                  1                2       3.785714  \n",
       "27636                 0                1       4.250000  \n",
       "127008                1                1       5.181818  "
      ]
     },
     "execution_count": 43,
     "metadata": {},
     "output_type": "execute_result"
    }
   ],
   "source": [
    "X_train.head()"
   ]
  },
  {
   "cell_type": "code",
   "execution_count": 60,
   "metadata": {},
   "outputs": [
    {
     "data": {
      "image/png": "[encoded data removed]",
      "text/plain": [
       "<Figure size 720x1440 with 3 Axes>"
      ]
     },
     "metadata": {
      "needs_background": "light"
     },
     "output_type": "display_data"
    }
   ],
   "source": [
    "X = X_train\n",
    "X['target'] = y_train\n",
    "\n",
    "X['num_words'].loc[X['num_words'] > 60] = 60\n",
    "X['num_punctuations'].loc[X['num_punctuations'] > 10] = 10\n",
    "X['num_chars'].loc[X['num_chars'] > 350] = 350\n",
    "\n",
    "f, axes = plt.subplots(3, 1, figsize=(10,20))\n",
    "sns.boxplot(x='target', y='num_words', data=X, ax=axes[0])\n",
    "axes[0].set_xlabel('Wheter the question is sincere', fontsize=12)\n",
    "axes[0].set_title('Number of words in each class', fontsize=15)\n",
    "\n",
    "sns.boxplot(x='target', y='num_chars', data=X, ax=axes[1])\n",
    "axes[1].set_xlabel('Wheter the question is sincere', fontsize=12)\n",
    "axes[1].set_title('Number of characters in each class', fontsize=15)\n",
    "\n",
    "sns.boxplot(x='target', y='num_punctuations', data=X, ax=axes[2])\n",
    "axes[2].set_xlabel('Wheter the question is sincere', fontsize=12)\n",
    "axes[2].set_title('Number of punctuation in each class', fontsize=15)\n",
    "\n",
    "plt.show()"
   ]
  },
  {
   "cell_type": "code",
   "execution_count": null,
   "metadata": {},
   "outputs": [],
   "source": []
  },
  {
   "cell_type": "code",
   "execution_count": null,
   "metadata": {},
   "outputs": [],
   "source": []
  },
  {
   "cell_type": "code",
   "execution_count": null,
   "metadata": {},
   "outputs": [],
   "source": []
  },
  {
   "cell_type": "code",
   "execution_count": null,
   "metadata": {},
   "outputs": [],
   "source": []
  }
 ],
 "metadata": {
  "kernelspec": {
   "display_name": "Python 3",
   "language": "python",
   "name": "python3"
  },
  "language_info": {
   "codemirror_mode": {
    "name": "ipython",
    "version": 3
   },
   "file_extension": ".py",
   "mimetype": "text/x-python",
   "name": "python",
   "nbconvert_exporter": "python",
   "pygments_lexer": "ipython3",
   "version": "3.6.6"
  }
 },
 "nbformat": 4,
 "nbformat_minor": 2
}
