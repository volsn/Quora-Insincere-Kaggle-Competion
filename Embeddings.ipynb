{
 "cells": [
  {
   "cell_type": "code",
   "execution_count": 224,
   "metadata": {},
   "outputs": [],
   "source": [
    "from __future__ import absolute_import, division, print_function, unicode_literals\n",
    "\n",
    "import os\n",
    "import sys\n",
    "\n",
    "import numpy as np\n",
    "import pandas as pd\n",
    "\n",
    "from sklearn.model_selection import train_test_split\n",
    "from sklearn.pipeline import Pipeline\n",
    "from sklearn.base import BaseEstimator, TransformerMixin\n",
    "\n",
    "import tensorflow as tf\n",
    "from tensorflow import keras\n",
    "from tensorflow.keras import layers\n",
    "\n",
    "import tensorflow_datasets as tfds\n",
    "tfds.disable_progress_bar()\n",
    "\n",
    "import warnings\n",
    "warnings.filterwarnings('ignore')\n",
    "\n",
    "import matplotlib.pyplot as plt\n",
    "%matplotlib inline"
   ]
  },
  {
   "cell_type": "code",
   "execution_count": null,
   "metadata": {},
   "outputs": [],
   "source": []
  },
  {
   "cell_type": "markdown",
   "metadata": {},
   "source": [
    "### Haven`t find better way to download encoder"
   ]
  },
  {
   "cell_type": "code",
   "execution_count": 3,
   "metadata": {},
   "outputs": [
    {
     "name": "stderr",
     "output_type": "stream",
     "text": [
      "WARNING:absl:Warning: Setting shuffle_files=True because split=TRAIN and shuffle_files=None. This behavior will be deprecated on 2019-08-06, at which point shuffle_files=False will be the default for all splits.\n"
     ]
    }
   ],
   "source": [
    "(train_data, test_data), info = tfds.load(\n",
    "    'imdb_reviews/subwords8k',\n",
    "    split=(tfds.Split.TRAIN, tfds.Split.TEST),\n",
    "    with_info=True, as_supervised=True\n",
    ")"
   ]
  },
  {
   "cell_type": "code",
   "execution_count": 4,
   "metadata": {},
   "outputs": [],
   "source": [
    "encoder = info.features['text'].encoder"
   ]
  },
  {
   "cell_type": "code",
   "execution_count": null,
   "metadata": {},
   "outputs": [],
   "source": []
  },
  {
   "cell_type": "code",
   "execution_count": 17,
   "metadata": {},
   "outputs": [
    {
     "data": {
      "text/plain": [
       "['test_submission.csv',\n",
       " 'embeddings',\n",
       " 'test.csv',\n",
       " 'train.csv',\n",
       " 'sample_submission.csv']"
      ]
     },
     "execution_count": 17,
     "metadata": {},
     "output_type": "execute_result"
    }
   ],
   "source": [
    "[f for f in os.listdir('DATA') if not f.startswith('.')]"
   ]
  },
  {
   "cell_type": "code",
   "execution_count": 113,
   "metadata": {},
   "outputs": [],
   "source": [
    "def fetch_data_train(path='DATA'):\n",
    "    data = pd.read_csv(os.path.join(path, 'train.csv'), nrows=10000)\n",
    "    \n",
    "    X = data.drop(['qid', 'target'], axis=1).values\n",
    "    y = data['target'].values\n",
    "    \n",
    "    X_train, X_test, y_train, y_test = train_test_split(X, y, test_size=0.2)\n",
    "    \n",
    "    return X_train, X_test, y_train, y_test\n",
    "\n",
    "def fetch_data_test(path='DATA'):\n",
    "    train = pd.read_csv(os.path.join(path, 'train.csv'))\n",
    "    test = pd.read_csv(os.path.join(path, 'test.csv'))\n",
    "    \n",
    "    X_train = train.drop(['qid', 'target'], axis=1).values\n",
    "    y_train = train['target'].values\n",
    "    X_test = train.drop(['qid'], axis=1).values\n",
    "    \n",
    "    return X_train, X_test, y_train"
   ]
  },
  {
   "cell_type": "code",
   "execution_count": 243,
   "metadata": {},
   "outputs": [],
   "source": [
    "X_train, X_test, y_train, y_test = fetch_data_train()"
   ]
  },
  {
   "cell_type": "code",
   "execution_count": 52,
   "metadata": {},
   "outputs": [
    {
     "data": {
      "text/plain": [
       "array([['What is the best possible way to utilise 15 minutes of reading time during class 10 board exams?'],\n",
       "       ['How can life fascinate a person?'],\n",
       "       ['What is the duration of the longest female orgasm?'],\n",
       "       ...,\n",
       "       ['What influenced Warren Sapp to become an athlete?'],\n",
       "       ['Regarding a convergent (destructive) tectonic plate, why does the forcing of an oceanic plate under a continental plate force magma up into a volcano?'],\n",
       "       ['Will liberals ever grow up and quit acting like children towards President Trump?']],\n",
       "      dtype=object)"
      ]
     },
     "execution_count": 52,
     "metadata": {},
     "output_type": "execute_result"
    }
   ],
   "source": [
    "X_train"
   ]
  },
  {
   "cell_type": "code",
   "execution_count": 42,
   "metadata": {},
   "outputs": [
    {
     "name": "stdout",
     "output_type": "stream",
     "text": [
      "Original sentence: What are the best ways to warm bread in the oven?\n",
      "Encoded sentence [274, 29, 1, 175, 1766, 7, 1892, 7961, 2144, 2189, 11, 1, 1928, 413, 7992]\n"
     ]
    }
   ],
   "source": [
    "example_sentence = X_train[0][0]\n",
    "encoded_sentence = encoder.encode(example_sentence)\n",
    "decoded_sentence = encoder.decode(encoded_sentence)\n",
    "\n",
    "assert example_sentence == decoded_sentence\n",
    "\n",
    "print('Original sentence:', decoded_sentence)\n",
    "print('Encoded sentence', encoded_sentence)"
   ]
  },
  {
   "cell_type": "code",
   "execution_count": null,
   "metadata": {},
   "outputs": [],
   "source": []
  },
  {
   "cell_type": "code",
   "execution_count": 238,
   "metadata": {},
   "outputs": [],
   "source": [
    "class EmbeddingTransformer(BaseEstimator, TransformerMixin):\n",
    "    def __init__(self, encoder):\n",
    "        self.encoder = encoder\n",
    "        self.vocab_size = self.encoder.vocab_size\n",
    "    \n",
    "    def fit(self, X, y=None):\n",
    "        return self\n",
    "    \n",
    "    def transform(self, X, y=None):\n",
    "        X_transformed = list()\n",
    "        for line in X.reshape(1, -1)[0]:\n",
    "            X_transformed.append(\n",
    "                self.encoder.encode(line)\n",
    "            )\n",
    "        return np.array(X_transformed)"
   ]
  },
  {
   "cell_type": "code",
   "execution_count": 239,
   "metadata": {},
   "outputs": [],
   "source": [
    "class PaddingTransform(BaseEstimator, TransformerMixin):\n",
    "    def fit(self, X, y=None):\n",
    "        self.max_len = len(max(X, key=len))\n",
    "        return self\n",
    "    \n",
    "    def transform(self, X, y=None):\n",
    "        X_transformed = []\n",
    "        \n",
    "        for line in X:\n",
    "            X_transformed.append(\n",
    "                np.concatenate((\n",
    "                    np.array(line),\n",
    "                    np.array([0] * (self.max_len - len(line)))\n",
    "                ), axis=0)\n",
    "            )\n",
    "        return np.array(X_transformed, dtype=np.int32)"
   ]
  },
  {
   "cell_type": "code",
   "execution_count": 244,
   "metadata": {},
   "outputs": [],
   "source": [
    "pipeline = Pipeline([\n",
    "    ('embedding', EmbeddingTransformer(encoder=encoder)),\n",
    "    ('padding', PaddingTransform())\n",
    "])"
   ]
  },
  {
   "cell_type": "code",
   "execution_count": null,
   "metadata": {},
   "outputs": [],
   "source": []
  },
  {
   "cell_type": "code",
   "execution_count": 245,
   "metadata": {},
   "outputs": [],
   "source": [
    "X_train = pipeline.fit_transform(X_train)\n",
    "X_test = pipeline.transform(X_test)\n",
    "\n",
    "# Use part of data for validation\n",
    "X_valid = X_train[-1000:]\n",
    "y_valid = y_train[-1000:]\n",
    "X_train = X_train[:-1000]\n",
    "y_train = y_train[:-1000]"
   ]
  },
  {
   "cell_type": "code",
   "execution_count": 223,
   "metadata": {},
   "outputs": [
    {
     "name": "stdout",
     "output_type": "stream",
     "text": [
      "X shape: (8000, 125)\n"
     ]
    },
    {
     "data": {
      "text/plain": [
       "array([[ 274,   29,    1, ...,    0,    0,    0],\n",
       "       [ 274,   29,   63, ...,    0,    0,    0],\n",
       "       [ 274,    9,   74, ...,    0,    0,    0],\n",
       "       ...,\n",
       "       [ 809,  110, 2640, ...,    0,    0,    0],\n",
       "       [ 809,   18,    1, ...,    0,    0,    0],\n",
       "       [ 809,    9,  417, ...,    0,    0,    0]], dtype=int32)"
      ]
     },
     "execution_count": 223,
     "metadata": {},
     "output_type": "execute_result"
    }
   ],
   "source": [
    "print('X shape:', X_train.shape)\n",
    "X_train"
   ]
  },
  {
   "cell_type": "code",
   "execution_count": null,
   "metadata": {},
   "outputs": [],
   "source": []
  },
  {
   "cell_type": "markdown",
   "metadata": {},
   "source": [
    "## Creating model"
   ]
  },
  {
   "cell_type": "code",
   "execution_count": 225,
   "metadata": {},
   "outputs": [
    {
     "name": "stdout",
     "output_type": "stream",
     "text": [
      "Model: \"sequential\"\n",
      "_________________________________________________________________\n",
      "Layer (type)                 Output Shape              Param #   \n",
      "=================================================================\n",
      "embedding (Embedding)        (None, None, 16)          130960    \n",
      "_________________________________________________________________\n",
      "global_average_pooling1d (Gl (None, 16)                0         \n",
      "_________________________________________________________________\n",
      "dense (Dense)                (None, 1)                 17        \n",
      "=================================================================\n",
      "Total params: 130,977\n",
      "Trainable params: 130,977\n",
      "Non-trainable params: 0\n",
      "_________________________________________________________________\n"
     ]
    }
   ],
   "source": [
    "embedding_dim = 16\n",
    "\n",
    "model = keras.Sequential([\n",
    "    layers.Embedding(encoder.vocab_size, embedding_dim),\n",
    "    layers.GlobalAveragePooling1D(),\n",
    "    layers.Dense(1, activation='sigmoid')\n",
    "])\n",
    "\n",
    "model.summary()"
   ]
  },
  {
   "cell_type": "code",
   "execution_count": 250,
   "metadata": {},
   "outputs": [
    {
     "name": "stdout",
     "output_type": "stream",
     "text": [
      "Train on 7000 samples, validate on 1000 samples\n",
      "Epoch 1/10\n",
      "7000/7000 [==============================] - 1s 138us/sample - loss: 0.1304 - accuracy: 0.9500 - val_loss: 0.1453 - val_accuracy: 0.9480\n",
      "Epoch 2/10\n",
      "7000/7000 [==============================] - 0s 69us/sample - loss: 0.1242 - accuracy: 0.9530 - val_loss: 0.1431 - val_accuracy: 0.9490\n",
      "Epoch 3/10\n",
      "7000/7000 [==============================] - 0s 64us/sample - loss: 0.1188 - accuracy: 0.9536 - val_loss: 0.1403 - val_accuracy: 0.9500\n",
      "Epoch 4/10\n",
      "7000/7000 [==============================] - 0s 64us/sample - loss: 0.1135 - accuracy: 0.9566 - val_loss: 0.1381 - val_accuracy: 0.9500\n",
      "Epoch 5/10\n",
      "7000/7000 [==============================] - 0s 65us/sample - loss: 0.1087 - accuracy: 0.9590 - val_loss: 0.1365 - val_accuracy: 0.9520\n",
      "Epoch 6/10\n",
      "7000/7000 [==============================] - 1s 76us/sample - loss: 0.1040 - accuracy: 0.9617 - val_loss: 0.1360 - val_accuracy: 0.9510\n",
      "Epoch 7/10\n",
      "7000/7000 [==============================] - 0s 69us/sample - loss: 0.0997 - accuracy: 0.9630 - val_loss: 0.1346 - val_accuracy: 0.9510\n",
      "Epoch 8/10\n",
      "7000/7000 [==============================] - 0s 66us/sample - loss: 0.0956 - accuracy: 0.9651 - val_loss: 0.1343 - val_accuracy: 0.9510\n",
      "Epoch 9/10\n",
      "7000/7000 [==============================] - 0s 67us/sample - loss: 0.0916 - accuracy: 0.9663 - val_loss: 0.1340 - val_accuracy: 0.9500\n",
      "Epoch 10/10\n",
      "7000/7000 [==============================] - 0s 65us/sample - loss: 0.0879 - accuracy: 0.9681 - val_loss: 0.1344 - val_accuracy: 0.9510\n"
     ]
    }
   ],
   "source": [
    "model.compile(optimizer='adam',\n",
    "              loss='binary_crossentropy',\n",
    "              metrics=['accuracy'])\n",
    "\n",
    "history = model.fit(\n",
    "    X_train, y_train,\n",
    "    epochs=10,\n",
    "    batch_size=32,\n",
    "    validation_data=(X_valid, y_valid),\n",
    ")"
   ]
  },
  {
   "cell_type": "code",
   "execution_count": 253,
   "metadata": {},
   "outputs": [
    {
     "data": {
      "text/plain": [
       "(8185, 16)"
      ]
     },
     "execution_count": 253,
     "metadata": {},
     "output_type": "execute_result"
    }
   ],
   "source": [
    "model.layers[0].get_weights()[0].shape"
   ]
  },
  {
   "cell_type": "code",
   "execution_count": null,
   "metadata": {},
   "outputs": [],
   "source": []
  }
 ],
 "metadata": {
  "kernelspec": {
   "display_name": "Python 3",
   "language": "python",
   "name": "python3"
  },
  "language_info": {
   "codemirror_mode": {
    "name": "ipython",
    "version": 3
   },
   "file_extension": ".py",
   "mimetype": "text/x-python",
   "name": "python",
   "nbconvert_exporter": "python",
   "pygments_lexer": "ipython3",
   "version": "3.6.6"
  }
 },
 "nbformat": 4,
 "nbformat_minor": 2
}
